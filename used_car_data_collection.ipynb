{
 "cells": [
  {
   "cell_type": "code",
   "execution_count": 2,
   "id": "816a0ae5",
   "metadata": {},
   "outputs": [],
   "source": [
    "# Notebook by Dominique Chin-Jones\n",
    "# Original vehicles.csv here: https://www.kaggle.com/datasets/austinreese/craigslist-carstrucks-data\n",
    "# Dataset is scraped from all regions in United States Craiglist and is no longer being maintained; last updated in 2020\n",
    "# The vehicles.csv used in this project has been slightly pre-cleaned and using columns relevant to the objective.\n",
    "# With certain values being excluded, it is possible for the model to be less accurate depending on the model's end usage."
   ]
  },
  {
   "cell_type": "code",
   "execution_count": 1,
   "id": "f37ae7ae",
   "metadata": {},
   "outputs": [
    {
     "data": {
      "text/plain": [
       "'/home/domecj/coding/data_projects/used-car-price-prediction'"
      ]
     },
     "execution_count": 1,
     "metadata": {},
     "output_type": "execute_result"
    }
   ],
   "source": [
    "import pandas as pd\n",
    "\n",
    "# Load data\n",
    "df_file_path = 'vehicles.csv'\n",
    "\n",
    "# Read csv into pandas\n",
    "df = pd.read_csv(df_file_path)"
   ]
  }
 ],
 "metadata": {
  "kernelspec": {
   "display_name": "Python 3 (ipykernel)",
   "language": "python",
   "name": "python3"
  },
  "language_info": {
   "codemirror_mode": {
    "name": "ipython",
    "version": 3
   },
   "file_extension": ".py",
   "mimetype": "text/x-python",
   "name": "python",
   "nbconvert_exporter": "python",
   "pygments_lexer": "ipython3",
   "version": "3.10.4"
  }
 },
 "nbformat": 4,
 "nbformat_minor": 5
}
